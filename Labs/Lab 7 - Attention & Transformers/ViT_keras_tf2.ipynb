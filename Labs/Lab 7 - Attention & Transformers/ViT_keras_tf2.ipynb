{
  "cells": [
    {
      "cell_type": "markdown",
      "metadata": {
        "id": "R-u7aq6q1gc0"
      },
      "source": [
        "# Image classification with Vision Transformer\n",
        "\n",
        "**Author:** [Khalid Salama](https://www.linkedin.com/in/khalid-salama-24403144/)"
      ]
    },
    {
      "cell_type": "markdown",
      "metadata": {
        "id": "w_LqTCiZ1gc3"
      },
      "source": [
        "## Introduction\n",
        "\n",
        "This example implements the [Vision Transformer (ViT)](https://arxiv.org/abs/2010.11929)\n",
        "model by Alexey Dosovitskiy et al. for image classification,\n",
        "and demonstrates it on the CIFAR-100 dataset.\n",
        "The ViT model applies the Transformer architecture with self-attention to sequences of\n",
        "image patches, without using convolution layers."
      ]
    },
    {
      "cell_type": "code",
      "execution_count": null,
      "metadata": {
        "colab": {
          "base_uri": "https://localhost:8080/"
        },
        "id": "ArYmIk1229zr",
        "outputId": "2fd36626-189b-4a78-b784-fae4b5c42912"
      },
      "outputs": [
        {
          "name": "stdout",
          "output_type": "stream",
          "text": [
            "Collecting tensorflow-addons\n",
            "  Downloading tensorflow_addons-0.15.0-cp37-cp37m-manylinux_2_12_x86_64.manylinux2010_x86_64.whl (1.1 MB)\n",
            "\u001b[K     |████████████████████████████████| 1.1 MB 4.0 MB/s \n",
            "\u001b[?25hRequirement already satisfied: typeguard>=2.7 in /usr/local/lib/python3.7/dist-packages (from tensorflow-addons) (2.7.1)\n",
            "Installing collected packages: tensorflow-addons\n",
            "Successfully installed tensorflow-addons-0.15.0\n"
          ]
        }
      ],
      "source": [
        "!pip install -U tensorflow-addons"
      ]
    },
    {
      "cell_type": "markdown",
      "metadata": {
        "id": "27mV2JV51gc4"
      },
      "source": [
        "## Setup"
      ]
    },
    {
      "cell_type": "code",
      "execution_count": null,
      "metadata": {
        "id": "c8YE-D951gc5"
      },
      "outputs": [],
      "source": [
        "import numpy as np\n",
        "import tensorflow as tf\n",
        "from tensorflow import keras\n",
        "from tensorflow.keras import layers\n",
        "import tensorflow_addons as tfa"
      ]
    },
    {
      "cell_type": "markdown",
      "metadata": {
        "id": "EAuH-ZlO1gc6"
      },
      "source": [
        "## Prepare the data"
      ]
    },
    {
      "cell_type": "code",
      "execution_count": null,
      "metadata": {
        "colab": {
          "base_uri": "https://localhost:8080/"
        },
        "id": "6-zchmXk1gc7",
        "outputId": "b0a15fe5-0fd8-4c12-8c93-df2ec21b4239"
      },
      "outputs": [
        {
          "name": "stdout",
          "output_type": "stream",
          "text": [
            "Downloading data from https://www.cs.toronto.edu/~kriz/cifar-100-python.tar.gz\n",
            "169009152/169001437 [==============================] - 3s 0us/step\n",
            "169017344/169001437 [==============================] - 3s 0us/step\n",
            "x_train shape: (50000, 32, 32, 3) - y_train shape: (50000, 1)\n",
            "x_test shape: (10000, 32, 32, 3) - y_test shape: (10000, 1)\n"
          ]
        }
      ],
      "source": [
        "num_classes = 100\n",
        "input_shape = (32, 32, 3)\n",
        "\n",
        "(x_train, y_train), (x_test, y_test) = keras.datasets.cifar100.load_data()\n",
        "\n",
        "print(f\"x_train shape: {x_train.shape} - y_train shape: {y_train.shape}\")\n",
        "print(f\"x_test shape: {x_test.shape} - y_test shape: {y_test.shape}\")\n"
      ]
    },
    {
      "cell_type": "markdown",
      "metadata": {
        "id": "-dwHwxmQ1gc7"
      },
      "source": [
        "## Configure the hyperparameters"
      ]
    },
    {
      "cell_type": "code",
      "execution_count": null,
      "metadata": {
        "id": "_dsPzeFV1gc8"
      },
      "outputs": [],
      "source": [
        "learning_rate = 0.001\n",
        "weight_decay = 0.0001\n",
        "batch_size = 256\n",
        "num_epochs = 100\n",
        "image_size = 72  # We'll resize input images to this size\n",
        "patch_size = 6  # Size of the patches to be extract from the input images\n",
        "num_patches = (image_size // patch_size) ** 2\n",
        "projection_dim = 64\n",
        "num_heads = 4\n",
        "transformer_units = [\n",
        "    projection_dim * 2,\n",
        "    projection_dim,\n",
        "]  # Size of the transformer layers\n",
        "transformer_layers = 8\n",
        "mlp_head_units = [2048, 1024]  # Size of the dense layers of the final classifier\n"
      ]
    },
    {
      "cell_type": "markdown",
      "metadata": {
        "id": "M9_N0WD_1gc9"
      },
      "source": [
        "## Use data augmentation"
      ]
    },
    {
      "cell_type": "code",
      "execution_count": null,
      "metadata": {
        "id": "GgY82Dod1gc-"
      },
      "outputs": [],
      "source": [
        "data_augmentation = keras.Sequential(\n",
        "    [\n",
        "        layers.Normalization(),\n",
        "        layers.Resizing(image_size, image_size),\n",
        "        layers.RandomFlip(\"horizontal\"),\n",
        "        layers.RandomRotation(factor=0.02),\n",
        "        layers.RandomZoom(\n",
        "            height_factor=0.2, width_factor=0.2\n",
        "        ),\n",
        "    ],\n",
        "    name=\"data_augmentation\",\n",
        ")\n",
        "# Compute the mean and the variance of the training data for normalization.\n",
        "data_augmentation.layers[0].adapt(x_train)\n"
      ]
    },
    {
      "cell_type": "markdown",
      "metadata": {
        "id": "hmOz6Is_1gc-"
      },
      "source": [
        "## Implement multilayer perceptron (MLP)"
      ]
    },
    {
      "cell_type": "code",
      "execution_count": null,
      "metadata": {
        "id": "jpz0AMle1gc_"
      },
      "outputs": [],
      "source": [
        "\n",
        "def mlp(x, hidden_units, dropout_rate):\n",
        "    for units in hidden_units:\n",
        "        x = layers.Dense(units, activation=tf.nn.gelu)(x)\n",
        "        x = layers.Dropout(dropout_rate)(x)\n",
        "    return x\n"
      ]
    },
    {
      "cell_type": "markdown",
      "metadata": {
        "id": "H0Sd49Xi1gc_"
      },
      "source": [
        "## Implement patch creation as a layer"
      ]
    },
    {
      "cell_type": "code",
      "execution_count": null,
      "metadata": {
        "id": "7lSoNIu01gc_"
      },
      "outputs": [],
      "source": [
        "\n",
        "class Patches(layers.Layer):\n",
        "    def __init__(self, patch_size):\n",
        "        super(Patches, self).__init__()\n",
        "        self.patch_size = patch_size\n",
        "\n",
        "    def call(self, images):\n",
        "        batch_size = tf.shape(images)[0]\n",
        "        patches = tf.image.extract_patches(\n",
        "            images=images,\n",
        "            sizes=[1, self.patch_size, self.patch_size, 1],\n",
        "            strides=[1, self.patch_size, self.patch_size, 1],\n",
        "            rates=[1, 1, 1, 1],\n",
        "            padding=\"VALID\",\n",
        "        )\n",
        "        patch_dims = patches.shape[-1]\n",
        "        patches = tf.reshape(patches, [batch_size, -1, patch_dims])\n",
        "        return patches\n"
      ]
    },
    {
      "cell_type": "markdown",
      "metadata": {
        "id": "qDLFOCXO1gdA"
      },
      "source": [
        "Let's display patches for a sample image"
      ]
    },
    {
      "cell_type": "code",
      "execution_count": null,
      "metadata": {
        "colab": {
          "base_uri": "https://localhost:8080/",
          "height": 549
        },
        "id": "mEW3UNYe1gdA",
        "outputId": "8414365c-4176-439a-c6dc-f7b14669d80d"
      },
      "outputs": [
        {
          "name": "stdout",
          "output_type": "stream",
          "text": [
            "Image size: 72 X 72\n",
            "Patch size: 6 X 6\n",
            "Patches per image: 144\n",
            "Elements per patch: 108\n"
          ]
        },
        {
          "data": {
            "image/png": "[encoded data removed]",
            "text/plain": [
              "<Figure size 288x288 with 1 Axes>"
            ]
          },
          "metadata": {},
          "output_type": "display_data"
        },
        {
          "data": {
            "image/png": "[encoded data removed]",
            "text/plain": [
              "<Figure size 288x288 with 144 Axes>"
            ]
          },
          "metadata": {},
          "output_type": "display_data"
        }
      ],
      "source": [
        "import matplotlib.pyplot as plt\n",
        "\n",
        "plt.figure(figsize=(4, 4))\n",
        "image = x_train[np.random.choice(range(x_train.shape[0]))]\n",
        "plt.imshow(image.astype(\"uint8\"))\n",
        "plt.axis(\"off\")\n",
        "\n",
        "resized_image = tf.image.resize(\n",
        "    tf.convert_to_tensor([image]), size=(image_size, image_size)\n",
        ")\n",
        "patches = Patches(patch_size)(resized_image)\n",
        "print(f\"Image size: {image_size} X {image_size}\")\n",
        "print(f\"Patch size: {patch_size} X {patch_size}\")\n",
        "print(f\"Patches per image: {patches.shape[1]}\")\n",
        "print(f\"Elements per patch: {patches.shape[-1]}\")\n",
        "\n",
        "n = int(np.sqrt(patches.shape[1]))\n",
        "plt.figure(figsize=(4, 4))\n",
        "for i, patch in enumerate(patches[0]):\n",
        "    ax = plt.subplot(n, n, i + 1)\n",
        "    patch_img = tf.reshape(patch, (patch_size, patch_size, 3))\n",
        "    plt.imshow(patch_img.numpy().astype(\"uint8\"))\n",
        "    plt.axis(\"off\")"
      ]
    },
    {
      "cell_type": "markdown",
      "metadata": {
        "id": "6s-Tl0Au1gdB"
      },
      "source": [
        "## Implement the patch encoding layer\n",
        "\n",
        "The `PatchEncoder` layer will linearly transform a patch by projecting it into a\n",
        "vector of size `projection_dim`. In addition, it adds a learnable position\n",
        "embedding to the projected vector."
      ]
    },
    {
      "cell_type": "code",
      "execution_count": null,
      "metadata": {
        "id": "8ZlbDdtE1gdB"
      },
      "outputs": [],
      "source": [
        "\n",
        "class PatchEncoder(layers.Layer):\n",
        "    def __init__(self, num_patches, projection_dim):\n",
        "        super(PatchEncoder, self).__init__()\n",
        "        self.num_patches = num_patches\n",
        "        self.projection = layers.Dense(units=projection_dim)\n",
        "        self.position_embedding = layers.Embedding(\n",
        "            input_dim=num_patches, output_dim=projection_dim\n",
        "        )\n",
        "\n",
        "    def call(self, patch):\n",
        "        positions = tf.range(start=0, limit=self.num_patches, delta=1)\n",
        "        encoded = self.projection(patch) + self.position_embedding(positions)\n",
        "        return encoded\n"
      ]
    },
    {
      "cell_type": "markdown",
      "metadata": {
        "id": "qSpXImlh1gdC"
      },
      "source": [
        "## Build the ViT model\n",
        "\n",
        "The ViT model consists of multiple Transformer blocks,\n",
        "which use the `layers.MultiHeadAttention` layer as a self-attention mechanism\n",
        "applied to the sequence of patches. The Transformer blocks produce a\n",
        "`[batch_size, num_patches, projection_dim]` tensor, which is processed via an\n",
        "classifier head with softmax to produce the final class probabilities output.\n",
        "\n",
        "Unlike the technique described in the [paper](https://arxiv.org/abs/2010.11929),\n",
        "which prepends a learnable embedding to the sequence of encoded patches to serve\n",
        "as the image representation, all the outputs of the final Transformer block are\n",
        "reshaped with `layers.Flatten()` and used as the image\n",
        "representation input to the classifier head.\n",
        "Note that the `layers.GlobalAveragePooling1D` layer\n",
        "could also be used instead to aggregate the outputs of the Transformer block,\n",
        "especially when the number of patches and the projection dimensions are large."
      ]
    },
    {
      "cell_type": "code",
      "execution_count": null,
      "metadata": {
        "id": "d25x7mHY1gdC"
      },
      "outputs": [],
      "source": [
        "\n",
        "def create_vit_classifier():\n",
        "    inputs = layers.Input(shape=input_shape)\n",
        "    # Augment data.\n",
        "    augmented = data_augmentation(inputs)\n",
        "    # Create patches.\n",
        "    patches = Patches(patch_size)(augmented)\n",
        "    # Encode patches.\n",
        "    encoded_patches = PatchEncoder(num_patches, projection_dim)(patches)\n",
        "\n",
        "    # Create multiple layers of the Transformer block.\n",
        "    for _ in range(transformer_layers):\n",
        "        # Layer normalization 1.\n",
        "        x1 = layers.LayerNormalization(epsilon=1e-6)(encoded_patches)\n",
        "        # Create a multi-head attention layer.\n",
        "        attention_output = layers.MultiHeadAttention(\n",
        "            num_heads=num_heads, key_dim=projection_dim, dropout=0.1\n",
        "        )(x1, x1)\n",
        "        # Skip connection 1.\n",
        "        x2 = layers.Add()([attention_output, encoded_patches])\n",
        "        # Layer normalization 2.\n",
        "        x3 = layers.LayerNormalization(epsilon=1e-6)(x2)\n",
        "        # MLP.\n",
        "        x3 = mlp(x3, hidden_units=transformer_units, dropout_rate=0.1)\n",
        "        # Skip connection 2.\n",
        "        encoded_patches = layers.Add()([x3, x2])\n",
        "\n",
        "    # Create a [batch_size, projection_dim] tensor.\n",
        "    representation = layers.LayerNormalization(epsilon=1e-6)(encoded_patches)\n",
        "    representation = layers.Flatten()(representation)\n",
        "    representation = layers.Dropout(0.5)(representation)\n",
        "    # Add MLP.\n",
        "    features = mlp(representation, hidden_units=mlp_head_units, dropout_rate=0.5)\n",
        "    # Classify outputs.\n",
        "    logits = layers.Dense(num_classes)(features)\n",
        "    # Create the Keras model.\n",
        "    model = keras.Model(inputs=inputs, outputs=logits)\n",
        "    return model\n"
      ]
    },
    {
      "cell_type": "markdown",
      "metadata": {
        "id": "sifPHNgX1gdF"
      },
      "source": [
        "## Compile, train, and evaluate the mode"
      ]
    },
    {
      "cell_type": "code",
      "execution_count": null,
      "metadata": {
        "colab": {
          "background_save": true,
          "base_uri": "https://localhost:8080/"
        },
        "id": "_jBKDA6S1gdF",
        "outputId": "ce7b1677-c148-46f5-b332-d4649c399700"
      },
      "outputs": [
        {
          "name": "stdout",
          "output_type": "stream",
          "text": [
            "Epoch 1/100\n",
            "176/176 [==============================] - 155s 802ms/step - loss: 4.4772 - accuracy: 0.0468 - top-5-accuracy: 0.1649 - val_loss: 3.9548 - val_accuracy: 0.1084 - val_top-5-accuracy: 0.3126\n",
            "Epoch 2/100\n",
            "176/176 [==============================] - 140s 794ms/step - loss: 3.9475 - accuracy: 0.0970 - top-5-accuracy: 0.2908 - val_loss: 3.5997 - val_accuracy: 0.1574 - val_top-5-accuracy: 0.4054\n",
            "Epoch 3/100\n",
            "176/176 [==============================] - 140s 793ms/step - loss: 3.7141 - accuracy: 0.1301 - top-5-accuracy: 0.3622 - val_loss: 3.3864 - val_accuracy: 0.1892 - val_top-5-accuracy: 0.4602\n",
            "Epoch 4/100\n",
            "176/176 [==============================] - 140s 794ms/step - loss: 3.5323 - accuracy: 0.1570 - top-5-accuracy: 0.4167 - val_loss: 3.1943 - val_accuracy: 0.2242 - val_top-5-accuracy: 0.5040\n",
            "Epoch 5/100\n",
            "176/176 [==============================] - 140s 794ms/step - loss: 3.3981 - accuracy: 0.1828 - top-5-accuracy: 0.4519 - val_loss: 3.0991 - val_accuracy: 0.2444 - val_top-5-accuracy: 0.5408\n",
            "Epoch 6/100\n",
            "176/176 [==============================] - 140s 793ms/step - loss: 3.2892 - accuracy: 0.2013 - top-5-accuracy: 0.4811 - val_loss: 3.0013 - val_accuracy: 0.2560 - val_top-5-accuracy: 0.5570\n",
            "Epoch 7/100\n",
            "176/176 [==============================] - 140s 795ms/step - loss: 3.1830 - accuracy: 0.2230 - top-5-accuracy: 0.5090 - val_loss: 2.9098 - val_accuracy: 0.2810 - val_top-5-accuracy: 0.5776\n",
            "Epoch 8/100\n",
            "176/176 [==============================] - 142s 807ms/step - loss: 3.0709 - accuracy: 0.2439 - top-5-accuracy: 0.5370 - val_loss: 2.7919 - val_accuracy: 0.3036 - val_top-5-accuracy: 0.6124\n",
            "Epoch 9/100\n",
            "176/176 [==============================] - 142s 807ms/step - loss: 2.9632 - accuracy: 0.2635 - top-5-accuracy: 0.5660 - val_loss: 2.7212 - val_accuracy: 0.3198 - val_top-5-accuracy: 0.6252\n",
            "Epoch 10/100\n",
            "176/176 [==============================] - 142s 806ms/step - loss: 2.8754 - accuracy: 0.2828 - top-5-accuracy: 0.5868 - val_loss: 2.6788 - val_accuracy: 0.3238 - val_top-5-accuracy: 0.6304\n",
            "Epoch 11/100\n",
            "176/176 [==============================] - 142s 807ms/step - loss: 2.7850 - accuracy: 0.2996 - top-5-accuracy: 0.6087 - val_loss: 2.5551 - val_accuracy: 0.3516 - val_top-5-accuracy: 0.6592\n",
            "Epoch 12/100\n",
            "176/176 [==============================] - 142s 808ms/step - loss: 2.7027 - accuracy: 0.3158 - top-5-accuracy: 0.6268 - val_loss: 2.4867 - val_accuracy: 0.3656 - val_top-5-accuracy: 0.6762\n",
            "Epoch 13/100\n",
            "176/176 [==============================] - 142s 806ms/step - loss: 2.6204 - accuracy: 0.3315 - top-5-accuracy: 0.6477 - val_loss: 2.4553 - val_accuracy: 0.3714 - val_top-5-accuracy: 0.6796\n",
            "Epoch 14/100\n",
            "176/176 [==============================] - 142s 807ms/step - loss: 2.5444 - accuracy: 0.3482 - top-5-accuracy: 0.6626 - val_loss: 2.3965 - val_accuracy: 0.3848 - val_top-5-accuracy: 0.6924\n",
            "Epoch 15/100\n",
            "176/176 [==============================] - 142s 807ms/step - loss: 2.4794 - accuracy: 0.3608 - top-5-accuracy: 0.6757 - val_loss: 2.3255 - val_accuracy: 0.4048 - val_top-5-accuracy: 0.7034\n",
            "Epoch 16/100\n",
            "176/176 [==============================] - 142s 809ms/step - loss: 2.4043 - accuracy: 0.3794 - top-5-accuracy: 0.6924 - val_loss: 2.2447 - val_accuracy: 0.4186 - val_top-5-accuracy: 0.7176\n",
            "Epoch 17/100\n",
            "176/176 [==============================] - 142s 809ms/step - loss: 2.3434 - accuracy: 0.3892 - top-5-accuracy: 0.7035 - val_loss: 2.2523 - val_accuracy: 0.4212 - val_top-5-accuracy: 0.7146\n",
            "Epoch 18/100\n",
            "176/176 [==============================] - 142s 809ms/step - loss: 2.2868 - accuracy: 0.4003 - top-5-accuracy: 0.7162 - val_loss: 2.2258 - val_accuracy: 0.4262 - val_top-5-accuracy: 0.7224\n",
            "Epoch 19/100\n",
            "176/176 [==============================] - 142s 809ms/step - loss: 2.2302 - accuracy: 0.4122 - top-5-accuracy: 0.7286 - val_loss: 2.1487 - val_accuracy: 0.4404 - val_top-5-accuracy: 0.7420\n",
            "Epoch 20/100\n",
            "176/176 [==============================] - 142s 804ms/step - loss: 2.1689 - accuracy: 0.4269 - top-5-accuracy: 0.7389 - val_loss: 2.1601 - val_accuracy: 0.4402 - val_top-5-accuracy: 0.7288\n",
            "Epoch 21/100\n",
            "176/176 [==============================] - 142s 808ms/step - loss: 2.1184 - accuracy: 0.4383 - top-5-accuracy: 0.7469 - val_loss: 2.0843 - val_accuracy: 0.4560 - val_top-5-accuracy: 0.7522\n",
            "Epoch 22/100\n",
            "176/176 [==============================] - 142s 808ms/step - loss: 2.0697 - accuracy: 0.4469 - top-5-accuracy: 0.7598 - val_loss: 2.0708 - val_accuracy: 0.4616 - val_top-5-accuracy: 0.7538\n",
            "Epoch 23/100\n",
            "176/176 [==============================] - 141s 804ms/step - loss: 1.9980 - accuracy: 0.4622 - top-5-accuracy: 0.7772 - val_loss: 2.0641 - val_accuracy: 0.4590 - val_top-5-accuracy: 0.7510\n",
            "Epoch 24/100\n",
            "176/176 [==============================] - 142s 808ms/step - loss: 1.9514 - accuracy: 0.4750 - top-5-accuracy: 0.7838 - val_loss: 2.0310 - val_accuracy: 0.4702 - val_top-5-accuracy: 0.7566\n",
            "Epoch 25/100\n",
            "176/176 [==============================] - 141s 803ms/step - loss: 1.9190 - accuracy: 0.4830 - top-5-accuracy: 0.7889 - val_loss: 2.0079 - val_accuracy: 0.4694 - val_top-5-accuracy: 0.7668\n",
            "Epoch 26/100\n",
            "176/176 [==============================] - 142s 807ms/step - loss: 1.8602 - accuracy: 0.4941 - top-5-accuracy: 0.8006 - val_loss: 1.9912 - val_accuracy: 0.4810 - val_top-5-accuracy: 0.7696\n",
            "Epoch 27/100\n",
            "176/176 [==============================] - 142s 808ms/step - loss: 1.8283 - accuracy: 0.5016 - top-5-accuracy: 0.8077 - val_loss: 1.9563 - val_accuracy: 0.4814 - val_top-5-accuracy: 0.7774\n",
            "Epoch 28/100\n",
            "176/176 [==============================] - 142s 807ms/step - loss: 1.7742 - accuracy: 0.5128 - top-5-accuracy: 0.8157 - val_loss: 1.9773 - val_accuracy: 0.4836 - val_top-5-accuracy: 0.7756\n",
            "Epoch 29/100\n",
            "176/176 [==============================] - 142s 808ms/step - loss: 1.7521 - accuracy: 0.5185 - top-5-accuracy: 0.8210 - val_loss: 1.9709 - val_accuracy: 0.4872 - val_top-5-accuracy: 0.7752\n",
            "Epoch 30/100\n",
            "176/176 [==============================] - 141s 803ms/step - loss: 1.6947 - accuracy: 0.5332 - top-5-accuracy: 0.8307 - val_loss: 1.9553 - val_accuracy: 0.4866 - val_top-5-accuracy: 0.7804\n",
            "Epoch 31/100\n",
            "176/176 [==============================] - 142s 807ms/step - loss: 1.6670 - accuracy: 0.5392 - top-5-accuracy: 0.8370 - val_loss: 1.9296 - val_accuracy: 0.4968 - val_top-5-accuracy: 0.7812\n",
            "Epoch 32/100\n",
            "176/176 [==============================] - 142s 808ms/step - loss: 1.6316 - accuracy: 0.5474 - top-5-accuracy: 0.8406 - val_loss: 1.8921 - val_accuracy: 0.5022 - val_top-5-accuracy: 0.7808\n",
            "Epoch 33/100\n",
            "176/176 [==============================] - 142s 808ms/step - loss: 1.6036 - accuracy: 0.5522 - top-5-accuracy: 0.8458 - val_loss: 1.9013 - val_accuracy: 0.5040 - val_top-5-accuracy: 0.7836\n",
            "Epoch 34/100\n",
            "176/176 [==============================] - 141s 803ms/step - loss: 1.5592 - accuracy: 0.5629 - top-5-accuracy: 0.8548 - val_loss: 1.8783 - val_accuracy: 0.5038 - val_top-5-accuracy: 0.7946\n",
            "Epoch 35/100\n",
            "176/176 [==============================] - 142s 806ms/step - loss: 1.5298 - accuracy: 0.5697 - top-5-accuracy: 0.8579 - val_loss: 1.9118 - val_accuracy: 0.5058 - val_top-5-accuracy: 0.7770\n",
            "Epoch 36/100\n",
            "176/176 [==============================] - 139s 792ms/step - loss: 1.5127 - accuracy: 0.5737 - top-5-accuracy: 0.8622 - val_loss: 1.8745 - val_accuracy: 0.5112 - val_top-5-accuracy: 0.7896\n",
            "Epoch 37/100\n",
            "176/176 [==============================] - 139s 792ms/step - loss: 1.4860 - accuracy: 0.5806 - top-5-accuracy: 0.8660 - val_loss: 1.8522 - val_accuracy: 0.5194 - val_top-5-accuracy: 0.7976\n",
            "Epoch 38/100\n",
            "176/176 [==============================] - 139s 787ms/step - loss: 1.4406 - accuracy: 0.5924 - top-5-accuracy: 0.8746 - val_loss: 1.8646 - val_accuracy: 0.5172 - val_top-5-accuracy: 0.7986\n",
            "Epoch 39/100\n",
            "176/176 [==============================] - 139s 788ms/step - loss: 1.4251 - accuracy: 0.5977 - top-5-accuracy: 0.8752 - val_loss: 1.8582 - val_accuracy: 0.5164 - val_top-5-accuracy: 0.7970\n",
            "Epoch 40/100\n",
            "176/176 [==============================] - 138s 787ms/step - loss: 1.3904 - accuracy: 0.6055 - top-5-accuracy: 0.8822 - val_loss: 1.8755 - val_accuracy: 0.5100 - val_top-5-accuracy: 0.7910\n",
            "Epoch 41/100\n",
            "176/176 [==============================] - 139s 788ms/step - loss: 1.3756 - accuracy: 0.6086 - top-5-accuracy: 0.8820 - val_loss: 1.8682 - val_accuracy: 0.5136 - val_top-5-accuracy: 0.8018\n",
            "Epoch 42/100\n",
            "176/176 [==============================] - 139s 793ms/step - loss: 1.3486 - accuracy: 0.6134 - top-5-accuracy: 0.8884 - val_loss: 1.8599 - val_accuracy: 0.5200 - val_top-5-accuracy: 0.7986\n",
            "Epoch 43/100\n",
            "176/176 [==============================] - 138s 787ms/step - loss: 1.3262 - accuracy: 0.6220 - top-5-accuracy: 0.8895 - val_loss: 1.8690 - val_accuracy: 0.5194 - val_top-5-accuracy: 0.7984\n",
            "Epoch 44/100\n",
            "176/176 [==============================] - 138s 787ms/step - loss: 1.3007 - accuracy: 0.6277 - top-5-accuracy: 0.8963 - val_loss: 1.8562 - val_accuracy: 0.5146 - val_top-5-accuracy: 0.7992\n",
            "Epoch 45/100\n",
            "176/176 [==============================] - 138s 787ms/step - loss: 1.2847 - accuracy: 0.6283 - top-5-accuracy: 0.8977 - val_loss: 1.8588 - val_accuracy: 0.5164 - val_top-5-accuracy: 0.8000\n",
            "Epoch 46/100\n",
            "176/176 [==============================] - 139s 792ms/step - loss: 1.2698 - accuracy: 0.6335 - top-5-accuracy: 0.9003 - val_loss: 1.8462 - val_accuracy: 0.5232 - val_top-5-accuracy: 0.8044\n",
            "Epoch 47/100\n",
            "176/176 [==============================] - 139s 792ms/step - loss: 1.2464 - accuracy: 0.6402 - top-5-accuracy: 0.9036 - val_loss: 1.8592 - val_accuracy: 0.5246 - val_top-5-accuracy: 0.8068\n",
            "Epoch 48/100\n",
            "176/176 [==============================] - 138s 787ms/step - loss: 1.2269 - accuracy: 0.6460 - top-5-accuracy: 0.9052 - val_loss: 1.8442 - val_accuracy: 0.5222 - val_top-5-accuracy: 0.7996\n",
            "Epoch 49/100\n",
            "176/176 [==============================] - 139s 792ms/step - loss: 1.2106 - accuracy: 0.6500 - top-5-accuracy: 0.9080 - val_loss: 1.8622 - val_accuracy: 0.5284 - val_top-5-accuracy: 0.8060\n",
            "Epoch 50/100\n",
            "176/176 [==============================] - 138s 787ms/step - loss: 1.1883 - accuracy: 0.6525 - top-5-accuracy: 0.9110 - val_loss: 1.8533 - val_accuracy: 0.5250 - val_top-5-accuracy: 0.8054\n",
            "Epoch 51/100\n",
            "176/176 [==============================] - 139s 787ms/step - loss: 1.1742 - accuracy: 0.6558 - top-5-accuracy: 0.9135 - val_loss: 1.8565 - val_accuracy: 0.5246 - val_top-5-accuracy: 0.8050\n",
            "Epoch 52/100\n",
            "176/176 [==============================] - 139s 792ms/step - loss: 1.1539 - accuracy: 0.6647 - top-5-accuracy: 0.9161 - val_loss: 1.8583 - val_accuracy: 0.5292 - val_top-5-accuracy: 0.8038\n",
            "Epoch 53/100\n",
            "176/176 [==============================] - 139s 788ms/step - loss: 1.1353 - accuracy: 0.6680 - top-5-accuracy: 0.9196 - val_loss: 1.8736 - val_accuracy: 0.5176 - val_top-5-accuracy: 0.8020\n",
            "Epoch 54/100\n",
            "176/176 [==============================] - 139s 788ms/step - loss: 1.1428 - accuracy: 0.6672 - top-5-accuracy: 0.9198 - val_loss: 1.8314 - val_accuracy: 0.5256 - val_top-5-accuracy: 0.8052\n",
            "Epoch 55/100\n",
            "176/176 [==============================] - 139s 788ms/step - loss: 1.1094 - accuracy: 0.6735 - top-5-accuracy: 0.9240 - val_loss: 1.8518 - val_accuracy: 0.5282 - val_top-5-accuracy: 0.8088\n",
            "Epoch 56/100\n",
            "176/176 [==============================] - 139s 788ms/step - loss: 1.0994 - accuracy: 0.6777 - top-5-accuracy: 0.9241 - val_loss: 1.8663 - val_accuracy: 0.5264 - val_top-5-accuracy: 0.8022\n",
            "Epoch 57/100\n",
            "176/176 [==============================] - 140s 793ms/step - loss: 1.0894 - accuracy: 0.6788 - top-5-accuracy: 0.9256 - val_loss: 1.8699 - val_accuracy: 0.5376 - val_top-5-accuracy: 0.8050\n",
            "Epoch 58/100\n",
            "176/176 [==============================] - 139s 788ms/step - loss: 1.0763 - accuracy: 0.6822 - top-5-accuracy: 0.9278 - val_loss: 1.8494 - val_accuracy: 0.5374 - val_top-5-accuracy: 0.8122\n",
            "Epoch 59/100\n",
            "176/176 [==============================] - 139s 788ms/step - loss: 1.0499 - accuracy: 0.6914 - top-5-accuracy: 0.9301 - val_loss: 1.8834 - val_accuracy: 0.5358 - val_top-5-accuracy: 0.8076\n",
            "Epoch 60/100\n",
            "176/176 [==============================] - 139s 788ms/step - loss: 1.0404 - accuracy: 0.6934 - top-5-accuracy: 0.9320 - val_loss: 1.8153 - val_accuracy: 0.5374 - val_top-5-accuracy: 0.8126\n",
            "Epoch 61/100\n",
            "176/176 [==============================] - 139s 787ms/step - loss: 1.0233 - accuracy: 0.6986 - top-5-accuracy: 0.9330 - val_loss: 1.8427 - val_accuracy: 0.5356 - val_top-5-accuracy: 0.8086\n",
            "Epoch 62/100\n",
            "176/176 [==============================] - 139s 787ms/step - loss: 1.0134 - accuracy: 0.7004 - top-5-accuracy: 0.9362 - val_loss: 1.8830 - val_accuracy: 0.5284 - val_top-5-accuracy: 0.8052\n",
            "Epoch 63/100\n",
            "176/176 [==============================] - 138s 787ms/step - loss: 1.0207 - accuracy: 0.6973 - top-5-accuracy: 0.9352 - val_loss: 1.8491 - val_accuracy: 0.5354 - val_top-5-accuracy: 0.8104\n",
            "Epoch 64/100\n",
            "176/176 [==============================] - 139s 788ms/step - loss: 1.0099 - accuracy: 0.7019 - top-5-accuracy: 0.9356 - val_loss: 1.8927 - val_accuracy: 0.5282 - val_top-5-accuracy: 0.8056\n",
            "Epoch 65/100\n",
            "176/176 [==============================] - 139s 787ms/step - loss: 0.9975 - accuracy: 0.7048 - top-5-accuracy: 0.9359 - val_loss: 1.8594 - val_accuracy: 0.5372 - val_top-5-accuracy: 0.8098\n",
            "Epoch 66/100\n",
            "176/176 [==============================] - 139s 792ms/step - loss: 0.9808 - accuracy: 0.7090 - top-5-accuracy: 0.9409 - val_loss: 1.8766 - val_accuracy: 0.5404 - val_top-5-accuracy: 0.8142\n",
            "Epoch 67/100\n",
            "176/176 [==============================] - 139s 788ms/step - loss: 0.9687 - accuracy: 0.7126 - top-5-accuracy: 0.9408 - val_loss: 1.8704 - val_accuracy: 0.5362 - val_top-5-accuracy: 0.8044\n",
            "Epoch 68/100\n",
            "176/176 [==============================] - 143s 810ms/step - loss: 0.9617 - accuracy: 0.7150 - top-5-accuracy: 0.9425 - val_loss: 1.8721 - val_accuracy: 0.5408 - val_top-5-accuracy: 0.8100\n",
            "Epoch 69/100\n",
            "176/176 [==============================] - 141s 804ms/step - loss: 0.9550 - accuracy: 0.7161 - top-5-accuracy: 0.9411 - val_loss: 1.8859 - val_accuracy: 0.5330 - val_top-5-accuracy: 0.8076\n",
            "Epoch 70/100\n",
            "176/176 [==============================] - 141s 804ms/step - loss: 0.9443 - accuracy: 0.7217 - top-5-accuracy: 0.9433 - val_loss: 1.9030 - val_accuracy: 0.5364 - val_top-5-accuracy: 0.8068\n",
            "Epoch 71/100\n",
            "176/176 [==============================] - 141s 804ms/step - loss: 0.9429 - accuracy: 0.7171 - top-5-accuracy: 0.9442 - val_loss: 1.8931 - val_accuracy: 0.5262 - val_top-5-accuracy: 0.8038\n",
            "Epoch 72/100\n",
            "176/176 [==============================] - 141s 804ms/step - loss: 0.9192 - accuracy: 0.7251 - top-5-accuracy: 0.9454 - val_loss: 1.8749 - val_accuracy: 0.5332 - val_top-5-accuracy: 0.8070\n",
            "Epoch 73/100\n",
            "176/176 [==============================] - 141s 803ms/step - loss: 0.9173 - accuracy: 0.7255 - top-5-accuracy: 0.9473 - val_loss: 1.8772 - val_accuracy: 0.5332 - val_top-5-accuracy: 0.8112\n",
            "Epoch 74/100\n",
            "176/176 [==============================] - 141s 804ms/step - loss: 0.9151 - accuracy: 0.7281 - top-5-accuracy: 0.9469 - val_loss: 1.8893 - val_accuracy: 0.5362 - val_top-5-accuracy: 0.8066\n",
            "Epoch 75/100\n",
            "176/176 [==============================] - 141s 803ms/step - loss: 0.9017 - accuracy: 0.7313 - top-5-accuracy: 0.9482 - val_loss: 1.9137 - val_accuracy: 0.5338 - val_top-5-accuracy: 0.8026\n",
            "Epoch 76/100\n",
            "176/176 [==============================] - 141s 803ms/step - loss: 0.8938 - accuracy: 0.7320 - top-5-accuracy: 0.9492 - val_loss: 1.8829 - val_accuracy: 0.5312 - val_top-5-accuracy: 0.8006\n",
            "Epoch 77/100\n",
            "176/176 [==============================] - 141s 804ms/step - loss: 0.8779 - accuracy: 0.7367 - top-5-accuracy: 0.9523 - val_loss: 1.9254 - val_accuracy: 0.5336 - val_top-5-accuracy: 0.8014\n",
            "Epoch 78/100\n",
            "176/176 [==============================] - 141s 803ms/step - loss: 0.8803 - accuracy: 0.7342 - top-5-accuracy: 0.9516 - val_loss: 1.9118 - val_accuracy: 0.5304 - val_top-5-accuracy: 0.8032\n",
            "Epoch 79/100\n",
            "176/176 [==============================] - 141s 801ms/step - loss: 0.8692 - accuracy: 0.7406 - top-5-accuracy: 0.9513 - val_loss: 1.9195 - val_accuracy: 0.5328 - val_top-5-accuracy: 0.8106\n",
            "Epoch 80/100\n",
            "176/176 [==============================] - 142s 806ms/step - loss: 0.8685 - accuracy: 0.7392 - top-5-accuracy: 0.9518 - val_loss: 1.8899 - val_accuracy: 0.5432 - val_top-5-accuracy: 0.8124\n",
            "Epoch 81/100\n",
            "176/176 [==============================] - 141s 800ms/step - loss: 0.8682 - accuracy: 0.7397 - top-5-accuracy: 0.9524 - val_loss: 1.8865 - val_accuracy: 0.5370 - val_top-5-accuracy: 0.8064\n",
            "Epoch 82/100\n",
            "176/176 [==============================] - 141s 801ms/step - loss: 0.8594 - accuracy: 0.7440 - top-5-accuracy: 0.9526 - val_loss: 1.9343 - val_accuracy: 0.5322 - val_top-5-accuracy: 0.8070\n",
            "Epoch 83/100\n",
            "176/176 [==============================] - 141s 800ms/step - loss: 0.8636 - accuracy: 0.7406 - top-5-accuracy: 0.9521 - val_loss: 1.8878 - val_accuracy: 0.5404 - val_top-5-accuracy: 0.8028\n",
            "Epoch 84/100\n",
            "176/176 [==============================] - 141s 800ms/step - loss: 0.8468 - accuracy: 0.7471 - top-5-accuracy: 0.9544 - val_loss: 1.9413 - val_accuracy: 0.5308 - val_top-5-accuracy: 0.8014\n",
            "Epoch 85/100\n",
            "176/176 [==============================] - 142s 807ms/step - loss: 0.8487 - accuracy: 0.7466 - top-5-accuracy: 0.9547 - val_loss: 1.8675 - val_accuracy: 0.5452 - val_top-5-accuracy: 0.8180\n",
            "Epoch 86/100\n",
            "176/176 [==============================] - 141s 801ms/step - loss: 0.8316 - accuracy: 0.7502 - top-5-accuracy: 0.9561 - val_loss: 1.8907 - val_accuracy: 0.5364 - val_top-5-accuracy: 0.8078\n",
            "Epoch 87/100\n",
            "176/176 [==============================] - 141s 801ms/step - loss: 0.8269 - accuracy: 0.7536 - top-5-accuracy: 0.9555 - val_loss: 1.9198 - val_accuracy: 0.5402 - val_top-5-accuracy: 0.8082\n",
            "Epoch 88/100\n",
            "176/176 [==============================] - 141s 802ms/step - loss: 0.8274 - accuracy: 0.7509 - top-5-accuracy: 0.9555 - val_loss: 1.9106 - val_accuracy: 0.5420 - val_top-5-accuracy: 0.8060\n",
            "Epoch 89/100\n",
            "176/176 [==============================] - 141s 802ms/step - loss: 0.8221 - accuracy: 0.7526 - top-5-accuracy: 0.9577 - val_loss: 1.8940 - val_accuracy: 0.5390 - val_top-5-accuracy: 0.8036\n",
            "Epoch 90/100\n",
            "101/176 [================>.............] - ETA: 58s - loss: 0.7860 - accuracy: 0.7626 - top-5-accuracy: 0.9594"
          ]
        }
      ],
      "source": [
        "\n",
        "def run_experiment(model):\n",
        "    optimizer = tfa.optimizers.AdamW(\n",
        "        learning_rate=learning_rate, weight_decay=weight_decay\n",
        "    )\n",
        "\n",
        "    model.compile(\n",
        "        optimizer=optimizer,\n",
        "        loss=keras.losses.SparseCategoricalCrossentropy(from_logits=True),\n",
        "        metrics=[\n",
        "            keras.metrics.SparseCategoricalAccuracy(name=\"accuracy\"),\n",
        "            keras.metrics.SparseTopKCategoricalAccuracy(5, name=\"top-5-accuracy\"),\n",
        "        ],\n",
        "    )\n",
        "\n",
        "    checkpoint_filepath = \"/tmp/checkpoint\"\n",
        "    checkpoint_callback = keras.callbacks.ModelCheckpoint(\n",
        "        checkpoint_filepath,\n",
        "        monitor=\"val_accuracy\",\n",
        "        save_best_only=True,\n",
        "        save_weights_only=True,\n",
        "    )\n",
        "\n",
        "    history = model.fit(\n",
        "        x=x_train,\n",
        "        y=y_train,\n",
        "        batch_size=batch_size,\n",
        "        epochs=num_epochs,\n",
        "        validation_split=0.1,\n",
        "        callbacks=[checkpoint_callback],\n",
        "    )\n",
        "\n",
        "    model.load_weights(checkpoint_filepath)\n",
        "    _, accuracy, top_5_accuracy = model.evaluate(x_test, y_test)\n",
        "    print(f\"Test accuracy: {round(accuracy * 100, 2)}%\")\n",
        "    print(f\"Test top 5 accuracy: {round(top_5_accuracy * 100, 2)}%\")\n",
        "\n",
        "    return history\n",
        "\n",
        "\n",
        "vit_classifier = create_vit_classifier()\n",
        "history = run_experiment(vit_classifier)\n"
      ]
    },
    {
      "cell_type": "markdown",
      "metadata": {
        "id": "GxVSvf5-1gdG"
      },
      "source": [
        ""
      ]
    }
  ],
  "metadata": {
    "accelerator": "GPU",
    "colab": {
      "collapsed_sections": [],
      "name": "ViT keras tf2",
      "provenance": []
    },
    "environment": {
      "name": "tf2-gpu.2-4.m61",
      "type": "gcloud",
      "uri": "gcr.io/deeplearning-platform-release/tf2-gpu.2-4:m61"
    },
    "kernelspec": {
      "display_name": "Python 3",
      "language": "python",
      "name": "python3"
    },
    "language_info": {
      "codemirror_mode": {
        "name": "ipython",
        "version": 3
      },
      "file_extension": ".py",
      "mimetype": "text/x-python",
      "name": "python",
      "nbconvert_exporter": "python",
      "pygments_lexer": "ipython3",
      "version": "3.7.9"
    }
  },
  "nbformat": 4,
  "nbformat_minor": 0
}